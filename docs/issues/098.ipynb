{
 "cells": [
  {
   "cell_type": "markdown",
   "metadata": {},
   "source": [
    "# [Issue 98](https://github.com/starhawking/python-terrascript/issues/98): Change to .update() in 0.8.0? \n",
    "\n",
    "## Problem\n",
    "\n",
    "> In our Terrascript 0.6.1 scripts, we have a bunch of functions that define pieces of the configuration, and we \n",
    "> assemble them like this:\n",
    "\n",
    "```python\n",
    "ts = terrascript.Terrascript()\n",
    "ts += terrascript.terraform(\n",
    "  backend = terrascript.backend(\n",
    "    \"s3\",\n",
    "    **config['backend']['s3']\n",
    "    )\n",
    "  )\n",
    "ts.update(tsumami.provider.define(config))\n",
    "ts.update(tsumami.s3.define(config))\n",
    "ts.update(tsumami.security_groups.define(config))\n",
    "```\n",
    "\n",
    "> where `config` is a dict based on a collection of YAML config files.\n",
    ">\n",
    "> Each of those functions looks like this:\n",
    "\n",
    "```python\n",
    "def define(config):\n",
    "  my_ts = terrascript.Terrascript()\n",
    "  if 's3-bucket' in config:\n",
    "    for (resource, data) in config['s3-bucket'].items():\n",
    "      # code that does various things\n",
    "      my_ts += terrascript.resource.aws.aws_s3_bucket(\n",
    "        resource,\n",
    "        bucket = bucketname,\n",
    "        **data\n",
    "        )\n",
    "  return(my_ts)\n",
    "```\n",
    "\n",
    "> That used to work in 0.6.1, but doesn't in 0.8.0; it seems that each `ts.update(something)` replaces the\n",
    "> previous one, and only the last one ends up in the config when we write out `str(ts)` at the end.\n",
    ">\n",
    "> What's the right way to do this in 0.8.0?"
   ]
  },
  {
   "cell_type": "markdown",
   "metadata": {},
   "source": [
    "## Analysis\n",
    "\n",
    "The problem is caused by having removed the ``Terrascript.update()`` method in release 0.8.0.\n",
    "\n",
    "```console\n",
    "$ git diff 0.6.1 0.8.0 terrascript/__init__.py\n",
    "-    def update(self, terrascript2):\n",
    "-        if isinstance(terrascript2, Terrascript):\n",
    "-            for item in terrascript2._item_list:\n",
    "-                self.__add__(item)\n",
    "-        else:\n",
    "-            raise TypeError('{0} is not a Terrascript instance.'.format(\n",
    "-                type(terrascript2)))\n",
    "```\n",
    "\n",
    "In fact, there is still a ``Terrascript.update()`` method but it is now inherited from the Python dictionary class which works of course completely differently.\n",
    "\n",
    "\n",
    "**Terrascript 0.8.0**\n",
    "```python\n",
    "class Terrascript(dict):\n",
    "    ...\n",
    "```\n",
    "\n",
    "**Terrascript 0.6.1**\n",
    "```python\n",
    "class Terrascript(object)\n",
    "```"
   ]
  },
  {
   "cell_type": "markdown",
   "metadata": {},
   "source": [
    "The obvious fix is to restore the ``Terrascript.update()`` method. This is not a simply copy and paste \n",
    "job as the ``Terrascript._item_list`` attribute has also been removed.\n",
    "\n",
    "In Terrascript 0.6.1 ``Terrascript.__item_list`` was managed behind the scenes. Terrascript 0.8.0 removed all this logic with the objective of making it much simpler.\n",
    "\n",
    "**Terrascript 0.6.1**\n",
    "\n",
    "```python\n",
    "class Terrascript(object):\n",
    "    \"\"\"Top-level container for Terraform configurations.\"\"\"\n",
    "\n",
    "    def __init__(self):\n",
    "        ...\n",
    "        self._item_list = []\n",
    "        \n",
    "    def __add__(self, item):\n",
    "        ...\n",
    "        if not isinstance(item, Terrascript):\n",
    "            if item in self._item_list:\n",
    "                self._item_list.remove(item)\n",
    "            self._item_list.append(item)\n",
    "```\n",
    "\n",
    "Since release 0.8.0 the ``Terrascript`` class is just a Python dictionary with extra smarts the best approach would be to make ``Terrascript.update()`` perform a \"nested dictionary merge\". That should hopefully provide the\n",
    "desired result."
   ]
  },
  {
   "cell_type": "markdown",
   "metadata": {},
   "source": [
    "### Current behaviour"
   ]
  },
  {
   "cell_type": "code",
   "execution_count": 108,
   "metadata": {},
   "outputs": [],
   "source": [
    "import terrascript\n",
    "import terrascript.provider\n",
    "import terrascript.resource\n",
    "import terrascript.data"
   ]
  },
  {
   "cell_type": "markdown",
   "metadata": {},
   "source": [
    "First ``Terrascript`` instance."
   ]
  },
  {
   "cell_type": "code",
   "execution_count": 109,
   "metadata": {},
   "outputs": [
    {
     "data": {
      "text/plain": [
       "{'provider': {'aws': [{'alias': 'east', 'region': 'us-east-1'}]}}"
      ]
     },
     "execution_count": 109,
     "metadata": {},
     "output_type": "execute_result"
    }
   ],
   "source": [
    "config1 = terrascript.Terrascript()\n",
    "config1 += terrascript.provider.aws(alias=\"east\", region=\"us-east-1\")\n",
    "config1"
   ]
  },
  {
   "cell_type": "markdown",
   "metadata": {},
   "source": [
    "Second ``Terrascript`` instance."
   ]
  },
  {
   "cell_type": "code",
   "execution_count": 110,
   "metadata": {},
   "outputs": [
    {
     "data": {
      "text/plain": [
       "{'provider': {'aws': [{'alias': 'east', 'region': 'us-west-1'}]}}"
      ]
     },
     "execution_count": 110,
     "metadata": {},
     "output_type": "execute_result"
    }
   ],
   "source": [
    "config2 = terrascript.Terrascript()\n",
    "config2 += terrascript.provider.aws(alias=\"east\", region=\"us-west-1\")\n",
    "config2"
   ]
  },
  {
   "cell_type": "markdown",
   "metadata": {},
   "source": [
    "Calling the (dictionary) ``.update()`` method overwrites the ``config['provider']`` key of the first instance with the value of the second instance."
   ]
  },
  {
   "cell_type": "code",
   "execution_count": 111,
   "metadata": {},
   "outputs": [
    {
     "data": {
      "text/plain": [
       "{'provider': {'aws': [{'alias': 'east', 'region': 'us-west-1'}]}}"
      ]
     },
     "execution_count": 111,
     "metadata": {},
     "output_type": "execute_result"
    }
   ],
   "source": [
    "config1.update(config2)\n",
    "config1"
   ]
  },
  {
   "cell_type": "markdown",
   "metadata": {},
   "source": [
    "### Draft solution\n",
    "It may be possible to implement ``.update()`` by \"recursing\" into ``config2`` to find all objects that are \n",
    "instances of sub-classes of ``Block`` and them ``_add__()`` them to ``self``, i.e. ``config1``. Unfortunately ``Provisioner`` is currently not derived from ``Block``."
   ]
  },
  {
   "cell_type": "code",
   "execution_count": 112,
   "metadata": {},
   "outputs": [],
   "source": [
    "config1 = terrascript.Terrascript()\n",
    "config1 += terrascript.provider.aws(alias=\"east\", region=\"us-east-1\")\n",
    "config2 = terrascript.Terrascript()\n",
    "config2 += terrascript.provider.aws(alias=\"east\", region=\"us-west-1\")"
   ]
  },
  {
   "cell_type": "code",
   "execution_count": 113,
   "metadata": {},
   "outputs": [
    {
     "name": "stdout",
     "output_type": "stream",
     "text": [
      "{\n",
      "  \"provider\": {\n",
      "    \"aws\": [\n",
      "      {\n",
      "        \"alias\": \"east\",\n",
      "        \"region\": \"us-east-1\"\n",
      "      },\n",
      "      {\n",
      "        \"alias\": \"east\",\n",
      "        \"region\": \"us-west-1\"\n",
      "      }\n",
      "    ]\n",
      "  }\n",
      "}\n"
     ]
    }
   ],
   "source": [
    "def recurse(o):\n",
    "    if isinstance(o, terrascript.Block):\n",
    "        yield o\n",
    "    elif isinstance(o, dict):\n",
    "        for k,v in o.items():\n",
    "            yield from recurse(v)\n",
    "    elif isinstance(o, list):\n",
    "        for i in o:\n",
    "            yield from recurse(i)\n",
    "    \n",
    "    return\n",
    "\n",
    "for x in recurse(config2):\n",
    "    config1 += x\n",
    "    \n",
    "print(config1)"
   ]
  },
  {
   "cell_type": "markdown",
   "metadata": {},
   "source": [
    "That works as expected. This is a candidate for the new ``update()`` method.\n",
    "In addition ``Provisioner`` will have to be derived from ``Block`` and not from ``dict``."
   ]
  },
  {
   "cell_type": "markdown",
   "metadata": {},
   "source": [
    "## Solution\n",
    "* Implement ``update()`` method.\n",
    "* Implement ``__iter__()`` method which is used by ``update()``"
   ]
  },
  {
   "cell_type": "markdown",
   "metadata": {},
   "source": [
    "## ``__iter__()`` method\n",
    "``__iter__()`` iterates over all \"top-level\" blocks: ``Resource``, ``Data``, ``Provider``, ``Variable``, ``Module`` and ``Output``."
   ]
  },
  {
   "cell_type": "code",
   "execution_count": 2,
   "metadata": {},
   "outputs": [
    {
     "name": "stdout",
     "output_type": "stream",
     "text": [
      "<class 'terrascript.provider.google.google'>\n",
      "<class 'terrascript.data.google.google_compute_image'>\n",
      "<class 'terrascript.resource.google.google_compute_instance'>\n"
     ]
    }
   ],
   "source": [
    "import terrascript\n",
    "import terrascript.provider\n",
    "import terrascript.resource\n",
    "import terrascript.data\n",
    "\n",
    "config = terrascript.Terrascript()\n",
    "\n",
    "# Google Cloud Compute provider\n",
    "config += terrascript.provider.google(\n",
    "    credentials='${file(\"account.json\")}', project=\"myproject\", region=\"us-central1\"\n",
    ")\n",
    "\n",
    "# Google Compute Image (Debian 9) data source\n",
    "config += terrascript.data.google_compute_image(\"image\", family=\"debian-9\")\n",
    "\n",
    "# Add Google Compute Instance resource\n",
    "config += terrascript.resource.google_compute_instance(\n",
    "    \"myinstance\",\n",
    "    name=\"myinstance\",\n",
    "    machine_type=\"n1-standard-1\",\n",
    "    zone=\"us-central1-a\",\n",
    "    boot_disk={\n",
    "        \"initialize_params\": {\"image\": \"data.google_compute_image.image.self_link\"}\n",
    "    },\n",
    "    network_interface={\"network\": \"default\", \"access_config\": {}},\n",
    ")\n",
    "\n",
    "for o in config:\n",
    "    print(type(o))"
   ]
  },
  {
   "cell_type": "markdown",
   "metadata": {},
   "source": [
    "## ``update()`` method"
   ]
  },
  {
   "cell_type": "code",
   "execution_count": 3,
   "metadata": {},
   "outputs": [
    {
     "data": {
      "text/plain": [
       "{'provider': {'aws': [{'alias': 'east', 'region': 'us-east-1'},\n",
       "   {'alias': 'east', 'region': 'us-west-1'}]}}"
      ]
     },
     "execution_count": 3,
     "metadata": {},
     "output_type": "execute_result"
    }
   ],
   "source": [
    "config1 = terrascript.Terrascript()\n",
    "config1 += terrascript.provider.aws(alias=\"east\", region=\"us-east-1\")\n",
    "\n",
    "config2 = terrascript.Terrascript()\n",
    "config2 += terrascript.provider.aws(alias=\"east\", region=\"us-west-1\")\n",
    "\n",
    "config1.update(config2)\n",
    "config1"
   ]
  },
  {
   "cell_type": "code",
   "execution_count": null,
   "metadata": {},
   "outputs": [],
   "source": []
  }
 ],
 "metadata": {
  "kernelspec": {
   "display_name": "Python 3",
   "language": "python",
   "name": "python3"
  },
  "language_info": {
   "codemirror_mode": {
    "name": "ipython",
    "version": 3
   },
   "file_extension": ".py",
   "mimetype": "text/x-python",
   "name": "python",
   "nbconvert_exporter": "python",
   "pygments_lexer": "ipython3",
   "version": "3.7.6"
  }
 },
 "nbformat": 4,
 "nbformat_minor": 4
}
